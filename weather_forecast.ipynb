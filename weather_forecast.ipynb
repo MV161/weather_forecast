{
 "cells": [
  {
   "cell_type": "code",
   "execution_count": 16,
   "metadata": {},
   "outputs": [
    {
     "name": "stderr",
     "output_type": "stream",
     "text": [
      "/usr/lib/python3.6/importlib/_bootstrap.py:219: RuntimeWarning: numpy.dtype size changed, may indicate binary incompatibility. Expected 96, got 88\n",
      "  return f(*args, **kwds)\n"
     ]
    }
   ],
   "source": [
    "import requests\n",
    "import urllib.parse\n",
    "import json\n",
    "import pandas as pd\n",
    "import matplotlib.pyplot as plt\n"
   ]
  },
  {
   "cell_type": "code",
   "execution_count": 55,
   "metadata": {},
   "outputs": [
    {
     "name": "stdout",
     "output_type": "stream",
     "text": [
      "Nhập vào thành phố, nước : (Ex: HaNoi, VN):  HaNoi, VietNam \n",
      "=================== DỰ BÁO THỜI TIẾT ===================\n",
      "\n",
      "Today:Wed, 17 Oct 2018 04:58 PM ICT || (Hà Nội Vietnam ) || Showers Nhiệt độ thấp nhất20°C, Nhiệt độ cao nhất 23°C\n",
      "\n",
      "             Day  High  Low                     Text\n",
      "17 Oct 2018  Wed    23   20  Scattered Thunderstorms\n",
      "18 Oct 2018  Thu    25   21                   Cloudy\n",
      "19 Oct 2018  Fri    28   22                   Cloudy\n",
      "20 Oct 2018  Sat    30   23  Scattered Thunderstorms\n",
      "21 Oct 2018  Sun    31   25            Thunderstorms\n",
      "22 Oct 2018  Mon    31   25            Thunderstorms\n",
      "23 Oct 2018  Tue    28   24            Thunderstorms\n",
      "24 Oct 2018  Wed    29   22        Scattered Showers\n",
      "25 Oct 2018  Thu    29   23  Scattered Thunderstorms\n",
      "26 Oct 2018  Fri    30   23            Thunderstorms\n"
     ]
    },
    {
     "data": {
      "text/plain": [
       "<Figure size 432x288 with 0 Axes>"
      ]
     },
     "metadata": {},
     "output_type": "display_data"
    },
    {
     "data": {
      "image/png": "[encoded data removed]",
      "text/plain": [
       "<Figure size 432x288 with 1 Axes>"
      ]
     },
     "metadata": {
      "needs_background": "light"
     },
     "output_type": "display_data"
    }
   ],
   "source": [
    "location = str(input(\"Nhập vào thành phố, nước : (Ex: HaNoi, VN):  \"))\n",
    "baseurl = \"https://query.yahooapis.com/v1/public/yql?\"\n",
    "yql_query = \"select * from weather.forecast where woeid in \\\n",
    "    (select woeid from geo.places(1) where text=\\\"{}\\\") and u=\\\"{}\\\"\".format(location,'c')\n",
    "yql_url = baseurl + urllib.parse.urlencode({'q': yql_query}) + \"&format=json\"\n",
    "result = requests.get(yql_url)\n",
    "data = json.loads(result.text)\n",
    "\n",
    "data_forecast = data[\"query\"][\"results\"][\"channel\"][\"item\"][\"forecast\"]\n",
    "city = data['query']['results']['channel']['location']['city']\n",
    "country = data['query']['results']['channel']['location']['country']\n",
    "text = data['query']['results']['channel']['item']['condition']['text']\n",
    "low = data['query']['results']['channel']['item']['forecast'][0]['low']\n",
    "high = data['query']['results']['channel']['item']['forecast'][0]['high']\n",
    "time_now = data['query']['results']['channel']['lastBuildDate']\n",
    "\n",
    "dates, days, highs, lows, texts = [], [], [], [], [] \n",
    "for i in range(len(data_forecast)):\n",
    "    dates.append(data[\"query\"][\"results\"][\"channel\"][\"item\"][\"forecast\"][i][\"date\"])\n",
    "    days.append(data[\"query\"][\"results\"][\"channel\"][\"item\"][\"forecast\"][i][\"day\"])\n",
    "    highs.append(data[\"query\"][\"results\"][\"channel\"][\"item\"][\"forecast\"][i][\"high\"])\n",
    "    lows.append(data[\"query\"][\"results\"][\"channel\"][\"item\"][\"forecast\"][i][\"low\"])\n",
    "    texts.append(data[\"query\"][\"results\"][\"channel\"][\"item\"][\"forecast\"][i][\"text\"])\n",
    "    \n",
    "d = {'Day': days, 'High': highs, 'Low': lows, 'Text': texts}\n",
    "df = pd.DataFrame(columns= ['Day', 'High', 'Low', 'Text'], data=d, index=dates)\n",
    "\n",
    "plt.figure(1)\n",
    "df.High = df.High.astype(int)\n",
    "df.Low = df.Low.astype(int)\n",
    "df.plot.bar()\n",
    "plt.xlabel('Ngày')\n",
    "plt.ylabel('Nhiệt Độ [$^o$C]')\n",
    "plt.title('Biểu đồ dự báo thời tiết 10 ngày tiếp của ' + city)\n",
    "\n",
    "print(\"=================== DỰ BÁO THỜI TIẾT ===================\")\n",
    "print('\\nToday:' + time_now + \" || (\" + city + \" \" + country + \" ) || \" + \\\n",
    "      text + \" Nhiệt độ thấp nhất\" + low + \"°C, Nhiệt độ cao nhất \" + high + '°C\\n')\n",
    "print(df)\n",
    "plt.show()"
   ]
  },
  {
   "cell_type": "code",
   "execution_count": 36,
   "metadata": {
    "collapsed": true
   },
   "outputs": [
    {
     "data": {
      "text/html": [
       "<div>\n",
       "<style scoped>\n",
       "    .dataframe tbody tr th:only-of-type {\n",
       "        vertical-align: middle;\n",
       "    }\n",
       "\n",
       "    .dataframe tbody tr th {\n",
       "        vertical-align: top;\n",
       "    }\n",
       "\n",
       "    .dataframe thead th {\n",
       "        text-align: right;\n",
       "    }\n",
       "</style>\n",
       "<table border=\"1\" class=\"dataframe\">\n",
       "  <thead>\n",
       "    <tr style=\"text-align: right;\">\n",
       "      <th></th>\n",
       "      <th>Date</th>\n",
       "      <th>Day</th>\n",
       "      <th>High</th>\n",
       "      <th>Low</th>\n",
       "      <th>Text</th>\n",
       "    </tr>\n",
       "  </thead>\n",
       "  <tbody>\n",
       "    <tr>\n",
       "      <th>0</th>\n",
       "      <td>17 Oct 2018</td>\n",
       "      <td>Wed</td>\n",
       "      <td>23</td>\n",
       "      <td>20</td>\n",
       "      <td>Scattered Thunderstorms</td>\n",
       "    </tr>\n",
       "    <tr>\n",
       "      <th>1</th>\n",
       "      <td>18 Oct 2018</td>\n",
       "      <td>Thu</td>\n",
       "      <td>25</td>\n",
       "      <td>21</td>\n",
       "      <td>Cloudy</td>\n",
       "    </tr>\n",
       "    <tr>\n",
       "      <th>2</th>\n",
       "      <td>19 Oct 2018</td>\n",
       "      <td>Fri</td>\n",
       "      <td>28</td>\n",
       "      <td>22</td>\n",
       "      <td>Cloudy</td>\n",
       "    </tr>\n",
       "    <tr>\n",
       "      <th>3</th>\n",
       "      <td>20 Oct 2018</td>\n",
       "      <td>Sat</td>\n",
       "      <td>30</td>\n",
       "      <td>23</td>\n",
       "      <td>Scattered Thunderstorms</td>\n",
       "    </tr>\n",
       "    <tr>\n",
       "      <th>4</th>\n",
       "      <td>21 Oct 2018</td>\n",
       "      <td>Sun</td>\n",
       "      <td>31</td>\n",
       "      <td>25</td>\n",
       "      <td>Thunderstorms</td>\n",
       "    </tr>\n",
       "    <tr>\n",
       "      <th>5</th>\n",
       "      <td>22 Oct 2018</td>\n",
       "      <td>Mon</td>\n",
       "      <td>31</td>\n",
       "      <td>25</td>\n",
       "      <td>Thunderstorms</td>\n",
       "    </tr>\n",
       "    <tr>\n",
       "      <th>6</th>\n",
       "      <td>23 Oct 2018</td>\n",
       "      <td>Tue</td>\n",
       "      <td>28</td>\n",
       "      <td>24</td>\n",
       "      <td>Thunderstorms</td>\n",
       "    </tr>\n",
       "    <tr>\n",
       "      <th>7</th>\n",
       "      <td>24 Oct 2018</td>\n",
       "      <td>Wed</td>\n",
       "      <td>29</td>\n",
       "      <td>22</td>\n",
       "      <td>Scattered Showers</td>\n",
       "    </tr>\n",
       "    <tr>\n",
       "      <th>8</th>\n",
       "      <td>25 Oct 2018</td>\n",
       "      <td>Thu</td>\n",
       "      <td>29</td>\n",
       "      <td>23</td>\n",
       "      <td>Scattered Thunderstorms</td>\n",
       "    </tr>\n",
       "    <tr>\n",
       "      <th>9</th>\n",
       "      <td>26 Oct 2018</td>\n",
       "      <td>Fri</td>\n",
       "      <td>30</td>\n",
       "      <td>23</td>\n",
       "      <td>Thunderstorms</td>\n",
       "    </tr>\n",
       "  </tbody>\n",
       "</table>\n",
       "</div>"
      ],
      "text/plain": [
       "          Date  Day High Low                     Text\n",
       "0  17 Oct 2018  Wed   23  20  Scattered Thunderstorms\n",
       "1  18 Oct 2018  Thu   25  21                   Cloudy\n",
       "2  19 Oct 2018  Fri   28  22                   Cloudy\n",
       "3  20 Oct 2018  Sat   30  23  Scattered Thunderstorms\n",
       "4  21 Oct 2018  Sun   31  25            Thunderstorms\n",
       "5  22 Oct 2018  Mon   31  25            Thunderstorms\n",
       "6  23 Oct 2018  Tue   28  24            Thunderstorms\n",
       "7  24 Oct 2018  Wed   29  22        Scattered Showers\n",
       "8  25 Oct 2018  Thu   29  23  Scattered Thunderstorms\n",
       "9  26 Oct 2018  Fri   30  23            Thunderstorms"
      ]
     },
     "execution_count": 36,
     "metadata": {},
     "output_type": "execute_result"
    }
   ],
   "source": []
  },
  {
   "cell_type": "code",
   "execution_count": null,
   "metadata": {},
   "outputs": [],
   "source": []
  }
 ],
 "metadata": {
  "kernelspec": {
   "display_name": "Python 3",
   "language": "python",
   "name": "python3"
  },
  "language_info": {
   "codemirror_mode": {
    "name": "ipython",
    "version": 3
   },
   "file_extension": ".py",
   "mimetype": "text/x-python",
   "name": "python",
   "nbconvert_exporter": "python",
   "pygments_lexer": "ipython3",
   "version": "3.6.5"
  }
 },
 "nbformat": 4,
 "nbformat_minor": 2
}
